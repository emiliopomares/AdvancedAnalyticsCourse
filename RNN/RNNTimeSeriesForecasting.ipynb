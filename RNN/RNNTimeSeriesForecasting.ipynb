{
 "cells": [
  {
   "cell_type": "markdown",
   "metadata": {},
   "source": [
    "<center>\n",
    "<h1>Predicción de series temporales con RNNs</h1>\n",
    "    <h2>Made with ❤️ by Emilio Pomares Porras (@emiliothehuman)</h2>\n",
    "    </center>\n",
    "<br><img src=\"http://www.wildml.com/wp-content/uploads/2015/09/rnn.jpg\">\n",
    "<br><br>Usaremos una RNN para predecir el precio del crudo"
   ]
  },
  {
   "cell_type": "code",
   "execution_count": 1,
   "metadata": {},
   "outputs": [],
   "source": [
    "# Imports varios...\n",
    "\n",
    "import tensorflow as tf\n",
    "import tensorflow.contrib.keras as keras\n",
    "from tensorflow.keras.models import Sequential\n",
    "L = keras.layers\n",
    "import pandas as pd\n",
    "import numpy as np\n",
    "import matplotlib.pyplot as plt"
   ]
  },
  {
   "cell_type": "markdown",
   "metadata": {},
   "source": [
    "Carguemos el dataset de precios del petróleo (1986 - 2018). La popular librería <b>Pandas</b> permite leer archivos Excel, así que menos trabajo para nosotros:"
   ]
  },
  {
   "cell_type": "code",
   "execution_count": 2,
   "metadata": {},
   "outputs": [],
   "source": [
    "xlsData = pd.ExcelFile('Crude Oil Prices Daily.xlsx')"
   ]
  },
  {
   "cell_type": "markdown",
   "metadata": {},
   "source": [
    "Los datos están en la primera hoja:"
   ]
  },
  {
   "cell_type": "code",
   "execution_count": 3,
   "metadata": {},
   "outputs": [],
   "source": [
    "pandasData = xlsData.parse(0)"
   ]
  },
  {
   "cell_type": "markdown",
   "metadata": {},
   "source": [
    "Vistazo a los datos (Dataframe de Pandas):"
   ]
  },
  {
   "cell_type": "code",
   "execution_count": 4,
   "metadata": {},
   "outputs": [
    {
     "data": {
      "text/html": [
       "<div>\n",
       "<style scoped>\n",
       "    .dataframe tbody tr th:only-of-type {\n",
       "        vertical-align: middle;\n",
       "    }\n",
       "\n",
       "    .dataframe tbody tr th {\n",
       "        vertical-align: top;\n",
       "    }\n",
       "\n",
       "    .dataframe thead th {\n",
       "        text-align: right;\n",
       "    }\n",
       "</style>\n",
       "<table border=\"1\" class=\"dataframe\">\n",
       "  <thead>\n",
       "    <tr style=\"text-align: right;\">\n",
       "      <th></th>\n",
       "      <th>Date</th>\n",
       "      <th>Closing Value</th>\n",
       "    </tr>\n",
       "  </thead>\n",
       "  <tbody>\n",
       "    <tr>\n",
       "      <th>0</th>\n",
       "      <td>1986-01-02</td>\n",
       "      <td>25.56</td>\n",
       "    </tr>\n",
       "    <tr>\n",
       "      <th>1</th>\n",
       "      <td>1986-01-03</td>\n",
       "      <td>26.00</td>\n",
       "    </tr>\n",
       "    <tr>\n",
       "      <th>2</th>\n",
       "      <td>1986-01-06</td>\n",
       "      <td>26.53</td>\n",
       "    </tr>\n",
       "    <tr>\n",
       "      <th>3</th>\n",
       "      <td>1986-01-07</td>\n",
       "      <td>25.85</td>\n",
       "    </tr>\n",
       "    <tr>\n",
       "      <th>4</th>\n",
       "      <td>1986-01-08</td>\n",
       "      <td>25.87</td>\n",
       "    </tr>\n",
       "    <tr>\n",
       "      <th>5</th>\n",
       "      <td>1986-01-09</td>\n",
       "      <td>26.03</td>\n",
       "    </tr>\n",
       "    <tr>\n",
       "      <th>6</th>\n",
       "      <td>1986-01-10</td>\n",
       "      <td>25.65</td>\n",
       "    </tr>\n",
       "    <tr>\n",
       "      <th>7</th>\n",
       "      <td>1986-01-13</td>\n",
       "      <td>25.08</td>\n",
       "    </tr>\n",
       "    <tr>\n",
       "      <th>8</th>\n",
       "      <td>1986-01-14</td>\n",
       "      <td>24.97</td>\n",
       "    </tr>\n",
       "    <tr>\n",
       "      <th>9</th>\n",
       "      <td>1986-01-15</td>\n",
       "      <td>25.18</td>\n",
       "    </tr>\n",
       "    <tr>\n",
       "      <th>10</th>\n",
       "      <td>1986-01-16</td>\n",
       "      <td>23.98</td>\n",
       "    </tr>\n",
       "    <tr>\n",
       "      <th>11</th>\n",
       "      <td>1986-01-17</td>\n",
       "      <td>23.63</td>\n",
       "    </tr>\n",
       "    <tr>\n",
       "      <th>12</th>\n",
       "      <td>1986-01-20</td>\n",
       "      <td>21.33</td>\n",
       "    </tr>\n",
       "    <tr>\n",
       "      <th>13</th>\n",
       "      <td>1986-01-21</td>\n",
       "      <td>20.61</td>\n",
       "    </tr>\n",
       "    <tr>\n",
       "      <th>14</th>\n",
       "      <td>1986-01-22</td>\n",
       "      <td>20.25</td>\n",
       "    </tr>\n",
       "    <tr>\n",
       "      <th>15</th>\n",
       "      <td>1986-01-23</td>\n",
       "      <td>19.93</td>\n",
       "    </tr>\n",
       "    <tr>\n",
       "      <th>16</th>\n",
       "      <td>1986-01-24</td>\n",
       "      <td>19.45</td>\n",
       "    </tr>\n",
       "    <tr>\n",
       "      <th>17</th>\n",
       "      <td>1986-01-27</td>\n",
       "      <td>20.87</td>\n",
       "    </tr>\n",
       "    <tr>\n",
       "      <th>18</th>\n",
       "      <td>1986-01-28</td>\n",
       "      <td>19.45</td>\n",
       "    </tr>\n",
       "    <tr>\n",
       "      <th>19</th>\n",
       "      <td>1986-01-29</td>\n",
       "      <td>19.61</td>\n",
       "    </tr>\n",
       "    <tr>\n",
       "      <th>20</th>\n",
       "      <td>1986-01-30</td>\n",
       "      <td>19.58</td>\n",
       "    </tr>\n",
       "    <tr>\n",
       "      <th>21</th>\n",
       "      <td>1986-01-31</td>\n",
       "      <td>18.95</td>\n",
       "    </tr>\n",
       "    <tr>\n",
       "      <th>22</th>\n",
       "      <td>1986-02-03</td>\n",
       "      <td>17.42</td>\n",
       "    </tr>\n",
       "    <tr>\n",
       "      <th>23</th>\n",
       "      <td>1986-02-04</td>\n",
       "      <td>15.58</td>\n",
       "    </tr>\n",
       "    <tr>\n",
       "      <th>24</th>\n",
       "      <td>1986-02-05</td>\n",
       "      <td>16.28</td>\n",
       "    </tr>\n",
       "    <tr>\n",
       "      <th>25</th>\n",
       "      <td>1986-02-06</td>\n",
       "      <td>16.60</td>\n",
       "    </tr>\n",
       "    <tr>\n",
       "      <th>26</th>\n",
       "      <td>1986-02-07</td>\n",
       "      <td>17.70</td>\n",
       "    </tr>\n",
       "    <tr>\n",
       "      <th>27</th>\n",
       "      <td>1986-02-10</td>\n",
       "      <td>16.78</td>\n",
       "    </tr>\n",
       "    <tr>\n",
       "      <th>28</th>\n",
       "      <td>1986-02-11</td>\n",
       "      <td>16.28</td>\n",
       "    </tr>\n",
       "    <tr>\n",
       "      <th>29</th>\n",
       "      <td>1986-02-12</td>\n",
       "      <td>15.74</td>\n",
       "    </tr>\n",
       "    <tr>\n",
       "      <th>...</th>\n",
       "      <td>...</td>\n",
       "      <td>...</td>\n",
       "    </tr>\n",
       "    <tr>\n",
       "      <th>8193</th>\n",
       "      <td>2018-05-29</td>\n",
       "      <td>66.73</td>\n",
       "    </tr>\n",
       "    <tr>\n",
       "      <th>8194</th>\n",
       "      <td>2018-05-30</td>\n",
       "      <td>68.21</td>\n",
       "    </tr>\n",
       "    <tr>\n",
       "      <th>8195</th>\n",
       "      <td>2018-05-31</td>\n",
       "      <td>67.04</td>\n",
       "    </tr>\n",
       "    <tr>\n",
       "      <th>8196</th>\n",
       "      <td>2018-06-01</td>\n",
       "      <td>65.81</td>\n",
       "    </tr>\n",
       "    <tr>\n",
       "      <th>8197</th>\n",
       "      <td>2018-06-04</td>\n",
       "      <td>64.75</td>\n",
       "    </tr>\n",
       "    <tr>\n",
       "      <th>8198</th>\n",
       "      <td>2018-06-05</td>\n",
       "      <td>65.52</td>\n",
       "    </tr>\n",
       "    <tr>\n",
       "      <th>8199</th>\n",
       "      <td>2018-06-06</td>\n",
       "      <td>64.75</td>\n",
       "    </tr>\n",
       "    <tr>\n",
       "      <th>8200</th>\n",
       "      <td>2018-06-07</td>\n",
       "      <td>65.96</td>\n",
       "    </tr>\n",
       "    <tr>\n",
       "      <th>8201</th>\n",
       "      <td>2018-06-08</td>\n",
       "      <td>65.77</td>\n",
       "    </tr>\n",
       "    <tr>\n",
       "      <th>8202</th>\n",
       "      <td>2018-06-11</td>\n",
       "      <td>66.10</td>\n",
       "    </tr>\n",
       "    <tr>\n",
       "      <th>8203</th>\n",
       "      <td>2018-06-12</td>\n",
       "      <td>66.38</td>\n",
       "    </tr>\n",
       "    <tr>\n",
       "      <th>8204</th>\n",
       "      <td>2018-06-13</td>\n",
       "      <td>66.63</td>\n",
       "    </tr>\n",
       "    <tr>\n",
       "      <th>8205</th>\n",
       "      <td>2018-06-14</td>\n",
       "      <td>66.91</td>\n",
       "    </tr>\n",
       "    <tr>\n",
       "      <th>8206</th>\n",
       "      <td>2018-06-15</td>\n",
       "      <td>65.01</td>\n",
       "    </tr>\n",
       "    <tr>\n",
       "      <th>8207</th>\n",
       "      <td>2018-06-18</td>\n",
       "      <td>65.91</td>\n",
       "    </tr>\n",
       "    <tr>\n",
       "      <th>8208</th>\n",
       "      <td>2018-06-19</td>\n",
       "      <td>65.09</td>\n",
       "    </tr>\n",
       "    <tr>\n",
       "      <th>8209</th>\n",
       "      <td>2018-06-20</td>\n",
       "      <td>65.92</td>\n",
       "    </tr>\n",
       "    <tr>\n",
       "      <th>8210</th>\n",
       "      <td>2018-06-21</td>\n",
       "      <td>65.68</td>\n",
       "    </tr>\n",
       "    <tr>\n",
       "      <th>8211</th>\n",
       "      <td>2018-06-22</td>\n",
       "      <td>69.02</td>\n",
       "    </tr>\n",
       "    <tr>\n",
       "      <th>8212</th>\n",
       "      <td>2018-06-25</td>\n",
       "      <td>69.91</td>\n",
       "    </tr>\n",
       "    <tr>\n",
       "      <th>8213</th>\n",
       "      <td>2018-06-26</td>\n",
       "      <td>75.23</td>\n",
       "    </tr>\n",
       "    <tr>\n",
       "      <th>8214</th>\n",
       "      <td>2018-06-27</td>\n",
       "      <td>77.41</td>\n",
       "    </tr>\n",
       "    <tr>\n",
       "      <th>8215</th>\n",
       "      <td>2018-06-28</td>\n",
       "      <td>73.45</td>\n",
       "    </tr>\n",
       "    <tr>\n",
       "      <th>8216</th>\n",
       "      <td>2018-06-29</td>\n",
       "      <td>74.13</td>\n",
       "    </tr>\n",
       "    <tr>\n",
       "      <th>8217</th>\n",
       "      <td>2018-07-02</td>\n",
       "      <td>73.89</td>\n",
       "    </tr>\n",
       "    <tr>\n",
       "      <th>8218</th>\n",
       "      <td>2018-07-03</td>\n",
       "      <td>74.19</td>\n",
       "    </tr>\n",
       "    <tr>\n",
       "      <th>8219</th>\n",
       "      <td>2018-07-04</td>\n",
       "      <td>NaN</td>\n",
       "    </tr>\n",
       "    <tr>\n",
       "      <th>8220</th>\n",
       "      <td>2018-07-05</td>\n",
       "      <td>73.05</td>\n",
       "    </tr>\n",
       "    <tr>\n",
       "      <th>8221</th>\n",
       "      <td>2018-07-06</td>\n",
       "      <td>73.78</td>\n",
       "    </tr>\n",
       "    <tr>\n",
       "      <th>8222</th>\n",
       "      <td>2018-07-09</td>\n",
       "      <td>73.93</td>\n",
       "    </tr>\n",
       "  </tbody>\n",
       "</table>\n",
       "<p>8223 rows × 2 columns</p>\n",
       "</div>"
      ],
      "text/plain": [
       "           Date  Closing Value\n",
       "0    1986-01-02          25.56\n",
       "1    1986-01-03          26.00\n",
       "2    1986-01-06          26.53\n",
       "3    1986-01-07          25.85\n",
       "4    1986-01-08          25.87\n",
       "5    1986-01-09          26.03\n",
       "6    1986-01-10          25.65\n",
       "7    1986-01-13          25.08\n",
       "8    1986-01-14          24.97\n",
       "9    1986-01-15          25.18\n",
       "10   1986-01-16          23.98\n",
       "11   1986-01-17          23.63\n",
       "12   1986-01-20          21.33\n",
       "13   1986-01-21          20.61\n",
       "14   1986-01-22          20.25\n",
       "15   1986-01-23          19.93\n",
       "16   1986-01-24          19.45\n",
       "17   1986-01-27          20.87\n",
       "18   1986-01-28          19.45\n",
       "19   1986-01-29          19.61\n",
       "20   1986-01-30          19.58\n",
       "21   1986-01-31          18.95\n",
       "22   1986-02-03          17.42\n",
       "23   1986-02-04          15.58\n",
       "24   1986-02-05          16.28\n",
       "25   1986-02-06          16.60\n",
       "26   1986-02-07          17.70\n",
       "27   1986-02-10          16.78\n",
       "28   1986-02-11          16.28\n",
       "29   1986-02-12          15.74\n",
       "...         ...            ...\n",
       "8193 2018-05-29          66.73\n",
       "8194 2018-05-30          68.21\n",
       "8195 2018-05-31          67.04\n",
       "8196 2018-06-01          65.81\n",
       "8197 2018-06-04          64.75\n",
       "8198 2018-06-05          65.52\n",
       "8199 2018-06-06          64.75\n",
       "8200 2018-06-07          65.96\n",
       "8201 2018-06-08          65.77\n",
       "8202 2018-06-11          66.10\n",
       "8203 2018-06-12          66.38\n",
       "8204 2018-06-13          66.63\n",
       "8205 2018-06-14          66.91\n",
       "8206 2018-06-15          65.01\n",
       "8207 2018-06-18          65.91\n",
       "8208 2018-06-19          65.09\n",
       "8209 2018-06-20          65.92\n",
       "8210 2018-06-21          65.68\n",
       "8211 2018-06-22          69.02\n",
       "8212 2018-06-25          69.91\n",
       "8213 2018-06-26          75.23\n",
       "8214 2018-06-27          77.41\n",
       "8215 2018-06-28          73.45\n",
       "8216 2018-06-29          74.13\n",
       "8217 2018-07-02          73.89\n",
       "8218 2018-07-03          74.19\n",
       "8219 2018-07-04            NaN\n",
       "8220 2018-07-05          73.05\n",
       "8221 2018-07-06          73.78\n",
       "8222 2018-07-09          73.93\n",
       "\n",
       "[8223 rows x 2 columns]"
      ]
     },
     "execution_count": 4,
     "metadata": {},
     "output_type": "execute_result"
    }
   ],
   "source": [
    "pandasData"
   ]
  },
  {
   "cell_type": "markdown",
   "metadata": {},
   "source": [
    "Para simplificar, consideraremos que los precios son diarios y los puntos de datos son equiespaciados (una auténtica serie temporal). Ignoremos las fechas y conservemos sólo la secuencia de precios:"
   ]
  },
  {
   "cell_type": "code",
   "execution_count": 5,
   "metadata": {},
   "outputs": [],
   "source": [
    "values = np.array(pandasData[\"Closing Value\"])"
   ]
  },
  {
   "cell_type": "markdown",
   "metadata": {},
   "source": [
    "Vistazo a los valores:"
   ]
  },
  {
   "cell_type": "code",
   "execution_count": 6,
   "metadata": {},
   "outputs": [
    {
     "data": {
      "text/plain": [
       "array([25.56, 26.  , 26.53, ..., 73.05, 73.78, 73.93])"
      ]
     },
     "execution_count": 6,
     "metadata": {},
     "output_type": "execute_result"
    }
   ],
   "source": [
    "values"
   ]
  },
  {
   "cell_type": "code",
   "execution_count": 7,
   "metadata": {},
   "outputs": [
    {
     "data": {
      "text/plain": [
       "[<matplotlib.lines.Line2D at 0x7eff78ee6be0>]"
      ]
     },
     "execution_count": 7,
     "metadata": {},
     "output_type": "execute_result"
    },
    {
     "data": {
      "image/png": "[encoded data removed]",
      "text/plain": [
       "<Figure size 432x288 with 1 Axes>"
      ]
     },
     "metadata": {
      "needs_background": "light"
     },
     "output_type": "display_data"
    }
   ],
   "source": [
    "plt.plot(values)"
   ]
  },
  {
   "cell_type": "markdown",
   "metadata": {},
   "source": [
    "El pico de precio máximo corresponde a finales del año 2008. Definamos un par de funciones que nos ayudarán a preparar nuestro dataset de entrenamiento:"
   ]
  },
  {
   "cell_type": "code",
   "execution_count": 8,
   "metadata": {},
   "outputs": [],
   "source": [
    "def MakeSequenceWindow(data, start, N=10):\n",
    "    return (data[start:start+N], data[start+N])"
   ]
  },
  {
   "cell_type": "markdown",
   "metadata": {},
   "source": [
    "Así que un datapoint (secuencia) -> valor siguiente quedaría así:"
   ]
  },
  {
   "cell_type": "code",
   "execution_count": 9,
   "metadata": {},
   "outputs": [
    {
     "data": {
      "text/plain": [
       "(array([25.56, 26.  , 26.53, 25.85, 25.87, 26.03, 25.65, 25.08, 24.97,\n",
       "        25.18]), 23.98)"
      ]
     },
     "execution_count": 9,
     "metadata": {},
     "output_type": "execute_result"
    }
   ],
   "source": [
    "MakeSequenceWindow(values, 0, 10)"
   ]
  },
  {
   "cell_type": "code",
   "execution_count": 10,
   "metadata": {},
   "outputs": [],
   "source": [
    "def MakeTrainingSet(data, nDataPoints, N=10):\n",
    "    x = []\n",
    "    y = []\n",
    "    for i in range (0,nDataPoints):\n",
    "        dp = MakeSequenceWindow(data, i, N)\n",
    "        x.append(dp[0])\n",
    "        y.append(dp[1])\n",
    "    return ((np.array(x).reshape(nDataPoints, N, 1)), np.array(y).reshape(nDataPoints, 1))"
   ]
  },
  {
   "cell_type": "markdown",
   "metadata": {},
   "source": [
    "Cuidado que nDataPoints + N sea menor que 8223, o nos salimos de rango"
   ]
  },
  {
   "cell_type": "code",
   "execution_count": 11,
   "metadata": {},
   "outputs": [],
   "source": [
    "SequenceLength = 30\n",
    "(allx, ally) = MakeTrainingSet(values, 8000, SequenceLength)\n",
    "trainx = allx[0:7000]\n",
    "trainy = ally[0:7000]\n",
    "valx = allx[7000:8000]\n",
    "valy = ally[7000:8000]"
   ]
  },
  {
   "cell_type": "code",
   "execution_count": 12,
   "metadata": {},
   "outputs": [
    {
     "name": "stdout",
     "output_type": "stream",
     "text": [
      "(7000, 30, 1)\n",
      "(7000, 1)\n"
     ]
    }
   ],
   "source": [
    "print(trainx.shape)\n",
    "print(trainy.shape)"
   ]
  },
  {
   "cell_type": "markdown",
   "metadata": {},
   "source": [
    "Estamos en disposición de construir nuestra red RNN. Usaremos unidades GRU en este caso:"
   ]
  },
  {
   "cell_type": "code",
   "execution_count": 13,
   "metadata": {},
   "outputs": [],
   "source": [
    "HiddenUnits = 10\n",
    "model = Sequential()\n",
    "model.add(L.GRU(HiddenUnits, input_shape=(SequenceLength,1), return_sequences=False))\n",
    "model.add(L.Dense(1))"
   ]
  },
  {
   "cell_type": "code",
   "execution_count": 14,
   "metadata": {},
   "outputs": [],
   "source": [
    "model.compile('adam', 'mean_squared_error', metrics=['accuracy'])"
   ]
  },
  {
   "cell_type": "code",
   "execution_count": 15,
   "metadata": {},
   "outputs": [
    {
     "name": "stdout",
     "output_type": "stream",
     "text": [
      "_________________________________________________________________\n",
      "Layer (type)                 Output Shape              Param #   \n",
      "=================================================================\n",
      "gru (GRU)                    (None, 10)                360       \n",
      "_________________________________________________________________\n",
      "dense (Dense)                (None, 1)                 11        \n",
      "=================================================================\n",
      "Total params: 371\n",
      "Trainable params: 371\n",
      "Non-trainable params: 0\n",
      "_________________________________________________________________\n"
     ]
    }
   ],
   "source": [
    "model.summary()"
   ]
  },
  {
   "cell_type": "code",
   "execution_count": 16,
   "metadata": {},
   "outputs": [],
   "source": [
    "# Definamos una clase descendiente de Callback para almacenar una historia de losses\n",
    "\n",
    "class LossHistory(keras.callbacks.Callback):\n",
    "        def on_train_begin(self, logs={}):\n",
    "            self.losses = []\n",
    "            \n",
    "        def on_epoch_end(self, epoch, logs={}):\n",
    "            self.losses.append(logs.get('loss'))\n",
    "            \n",
    "l = LossHistory()"
   ]
  },
  {
   "cell_type": "markdown",
   "metadata": {},
   "source": [
    "Entrenemos un poco la red para asegurarnos de que el loss desciende. No nos preocupamos de dar datos de validación en este punto:"
   ]
  },
  {
   "cell_type": "code",
   "execution_count": 23,
   "metadata": {},
   "outputs": [
    {
     "name": "stdout",
     "output_type": "stream",
     "text": [
      "Epoch 1/10\n",
      "7000/7000 [==============================] - 6s 823us/step - loss: 45.0088 - acc: 0.0000e+00\n",
      "Epoch 2/10\n",
      "7000/7000 [==============================] - 6s 833us/step - loss: 41.6494 - acc: 0.0000e+00\n",
      "Epoch 3/10\n",
      "7000/7000 [==============================] - 6s 827us/step - loss: 38.5698 - acc: 0.0000e+00\n",
      "Epoch 4/10\n",
      "7000/7000 [==============================] - 6s 825us/step - loss: 35.7357 - acc: 0.0000e+00\n",
      "Epoch 5/10\n",
      "7000/7000 [==============================] - 6s 831us/step - loss: 33.1343 - acc: 0.0000e+00\n",
      "Epoch 6/10\n",
      "7000/7000 [==============================] - 6s 843us/step - loss: 30.6631 - acc: 0.0000e+00\n",
      "Epoch 7/10\n",
      "7000/7000 [==============================] - 6s 824us/step - loss: 28.5012 - acc: 0.0000e+00\n",
      "Epoch 8/10\n",
      "7000/7000 [==============================] - 6s 828us/step - loss: 26.4725 - acc: 0.0000e+00\n",
      "Epoch 9/10\n",
      "7000/7000 [==============================] - 6s 836us/step - loss: 24.6338 - acc: 0.0000e+00\n",
      "Epoch 10/10\n",
      "7000/7000 [==============================] - 6s 840us/step - loss: 22.9116 - acc: 0.0000e+00\n"
     ]
    },
    {
     "data": {
      "text/plain": [
       "<tensorflow.python.keras.callbacks.History at 0x7eff625817b8>"
      ]
     },
     "execution_count": 23,
     "metadata": {},
     "output_type": "execute_result"
    }
   ],
   "source": [
    "nEpochs = 10\n",
    "model.fit(trainx, trainy, epochs=nEpochs, callbacks=[l])"
   ]
  },
  {
   "cell_type": "code",
   "execution_count": 18,
   "metadata": {},
   "outputs": [
    {
     "data": {
      "text/plain": [
       "Text(0.5, 1.0, 'Cost function over time (epochs)')"
      ]
     },
     "execution_count": 18,
     "metadata": {},
     "output_type": "execute_result"
    },
    {
     "data": {
      "image/png": "[encoded data removed]",
      "text/plain": [
       "<Figure size 432x288 with 1 Axes>"
      ]
     },
     "metadata": {
      "needs_background": "light"
     },
     "output_type": "display_data"
    }
   ],
   "source": [
    "# Echemos un vistazo al coste en función de la época\n",
    "\n",
    "x = range(1,len(l.losses)+1)\n",
    "y = l.losses\n",
    "plt.plot(x,y)\n",
    "plt.title(\"Cost function over time (epochs)\")"
   ]
  },
  {
   "cell_type": "markdown",
   "metadata": {},
   "source": [
    "El coste desciende con las iteraciones, y parece que podemos seguir entrenando... hagamos otras 70 épocas:"
   ]
  },
  {
   "cell_type": "code",
   "execution_count": 19,
   "metadata": {},
   "outputs": [
    {
     "name": "stdout",
     "output_type": "stream",
     "text": [
      "Epoch 1/60\n",
      "7000/7000 [==============================] - 5s 774us/step - loss: 1511.3256 - acc: 0.0000e+00\n",
      "Epoch 2/60\n",
      "7000/7000 [==============================] - 5s 782us/step - loss: 1449.9117 - acc: 0.0000e+00\n",
      "Epoch 3/60\n",
      "7000/7000 [==============================] - 5s 776us/step - loss: 1391.3794 - acc: 0.0000e+00\n",
      "Epoch 4/60\n",
      "7000/7000 [==============================] - 5s 763us/step - loss: 1335.3605 - acc: 0.0000e+00\n",
      "Epoch 5/60\n",
      "7000/7000 [==============================] - 5s 769us/step - loss: 1281.5870 - acc: 0.0000e+00\n",
      "Epoch 6/60\n",
      "7000/7000 [==============================] - 5s 781us/step - loss: 1229.9743 - acc: 0.0000e+00\n",
      "Epoch 7/60\n",
      "7000/7000 [==============================] - 5s 783us/step - loss: 1180.0993 - acc: 0.0000e+00\n",
      "Epoch 8/60\n",
      "7000/7000 [==============================] - 5s 775us/step - loss: 1131.8805 - acc: 0.0000e+00\n",
      "Epoch 9/60\n",
      "7000/7000 [==============================] - 6s 787us/step - loss: 1085.2923 - acc: 0.0000e+00\n",
      "Epoch 10/60\n",
      "7000/7000 [==============================] - 6s 788us/step - loss: 1040.2302 - acc: 0.0000e+00\n",
      "Epoch 11/60\n",
      "7000/7000 [==============================] - 5s 766us/step - loss: 996.5614 - acc: 0.0000e+00\n",
      "Epoch 12/60\n",
      "7000/7000 [==============================] - 5s 779us/step - loss: 954.1671 - acc: 0.0000e+00\n",
      "Epoch 13/60\n",
      "7000/7000 [==============================] - 5s 767us/step - loss: 913.0309 - acc: 0.0000e+00\n",
      "Epoch 14/60\n",
      "7000/7000 [==============================] - 5s 785us/step - loss: 873.1337 - acc: 0.0000e+00\n",
      "Epoch 15/60\n",
      "7000/7000 [==============================] - 5s 770us/step - loss: 834.3891 - acc: 0.0000e+00\n",
      "Epoch 16/60\n",
      "7000/7000 [==============================] - 5s 782us/step - loss: 796.7311 - acc: 0.0000e+00\n",
      "Epoch 17/60\n",
      "7000/7000 [==============================] - 5s 776us/step - loss: 760.1486 - acc: 0.0000e+00\n",
      "Epoch 18/60\n",
      "7000/7000 [==============================] - 5s 775us/step - loss: 724.7524 - acc: 0.0000e+00\n",
      "Epoch 19/60\n",
      "7000/7000 [==============================] - 5s 768us/step - loss: 690.4598 - acc: 0.0000e+00\n",
      "Epoch 20/60\n",
      "7000/7000 [==============================] - 5s 775us/step - loss: 657.3566 - acc: 0.0000e+00\n",
      "Epoch 21/60\n",
      "7000/7000 [==============================] - 5s 765us/step - loss: 625.2847 - acc: 0.0000e+00\n",
      "Epoch 22/60\n",
      "7000/7000 [==============================] - 5s 783us/step - loss: 594.3120 - acc: 0.0000e+00\n",
      "Epoch 23/60\n",
      "7000/7000 [==============================] - 6s 787us/step - loss: 564.3926 - acc: 0.0000e+00\n",
      "Epoch 24/60\n",
      "7000/7000 [==============================] - 6s 808us/step - loss: 535.5672 - acc: 0.0000e+00\n",
      "Epoch 25/60\n",
      "7000/7000 [==============================] - 5s 763us/step - loss: 507.7681 - acc: 0.0000e+00\n",
      "Epoch 26/60\n",
      "7000/7000 [==============================] - 5s 768us/step - loss: 481.0507 - acc: 0.0000e+00\n",
      "Epoch 27/60\n",
      "7000/7000 [==============================] - 5s 766us/step - loss: 455.3727 - acc: 0.0000e+00\n",
      "Epoch 28/60\n",
      "7000/7000 [==============================] - 5s 772us/step - loss: 430.7161 - acc: 0.0000e+00\n",
      "Epoch 29/60\n",
      "7000/7000 [==============================] - 5s 779us/step - loss: 407.1351 - acc: 0.0000e+00\n",
      "Epoch 30/60\n",
      "7000/7000 [==============================] - 5s 770us/step - loss: 384.5414 - acc: 0.0000e+00\n",
      "Epoch 31/60\n",
      "7000/7000 [==============================] - 5s 783us/step - loss: 362.9599 - acc: 0.0000e+00\n",
      "Epoch 32/60\n",
      "7000/7000 [==============================] - 5s 778us/step - loss: 342.3382 - acc: 0.0000e+00\n",
      "Epoch 33/60\n",
      "7000/7000 [==============================] - 5s 783us/step - loss: 322.6131 - acc: 0.0000e+00\n",
      "Epoch 34/60\n",
      "7000/7000 [==============================] - 5s 777us/step - loss: 303.7564 - acc: 0.0000e+00\n",
      "Epoch 35/60\n",
      "7000/7000 [==============================] - 5s 777us/step - loss: 285.8139 - acc: 0.0000e+00\n",
      "Epoch 36/60\n",
      "7000/7000 [==============================] - 5s 780us/step - loss: 268.7667 - acc: 0.0000e+00\n",
      "Epoch 37/60\n",
      "7000/7000 [==============================] - 5s 779us/step - loss: 252.5816 - acc: 0.0000e+00\n",
      "Epoch 38/60\n",
      "7000/7000 [==============================] - 5s 780us/step - loss: 237.2020 - acc: 0.0000e+00\n",
      "Epoch 39/60\n",
      "7000/7000 [==============================] - 6s 804us/step - loss: 222.5885 - acc: 0.0000e+00\n",
      "Epoch 40/60\n",
      "7000/7000 [==============================] - 6s 885us/step - loss: 208.6892 - acc: 0.0000e+00\n",
      "Epoch 41/60\n",
      "7000/7000 [==============================] - 6s 879us/step - loss: 195.4995 - acc: 0.0000e+00\n",
      "Epoch 42/60\n",
      "7000/7000 [==============================] - 6s 807us/step - loss: 182.9496 - acc: 0.0000e+00\n",
      "Epoch 43/60\n",
      "7000/7000 [==============================] - 6s 825us/step - loss: 171.0814 - acc: 0.0000e+00\n",
      "Epoch 44/60\n",
      "7000/7000 [==============================] - 6s 829us/step - loss: 159.8241 - acc: 0.0000e+00\n",
      "Epoch 45/60\n",
      "7000/7000 [==============================] - 6s 794us/step - loss: 149.1720 - acc: 0.0000e+00\n",
      "Epoch 46/60\n",
      "7000/7000 [==============================] - 6s 792us/step - loss: 139.1572 - acc: 0.0000e+00\n",
      "Epoch 47/60\n",
      "7000/7000 [==============================] - 6s 809us/step - loss: 129.7272 - acc: 0.0000e+00\n",
      "Epoch 48/60\n",
      "7000/7000 [==============================] - 5s 778us/step - loss: 120.8017 - acc: 0.0000e+00\n",
      "Epoch 49/60\n",
      "7000/7000 [==============================] - 6s 790us/step - loss: 112.4901 - acc: 0.0000e+00\n",
      "Epoch 50/60\n",
      "7000/7000 [==============================] - 6s 794us/step - loss: 104.5650 - acc: 0.0000e+00\n",
      "Epoch 51/60\n",
      "7000/7000 [==============================] - 6s 818us/step - loss: 97.1791 - acc: 0.0000e+00\n",
      "Epoch 52/60\n",
      "7000/7000 [==============================] - 6s 856us/step - loss: 90.2135 - acc: 0.0000e+00\n",
      "Epoch 53/60\n",
      "7000/7000 [==============================] - 6s 903us/step - loss: 83.7632 - acc: 0.0000e+00\n",
      "Epoch 54/60\n",
      "7000/7000 [==============================] - 6s 894us/step - loss: 77.6086 - acc: 0.0000e+00\n",
      "Epoch 55/60\n",
      "7000/7000 [==============================] - 6s 869us/step - loss: 71.8742 - acc: 0.0000e+00\n",
      "Epoch 56/60\n",
      "7000/7000 [==============================] - 6s 838us/step - loss: 66.5356 - acc: 0.0000e+00\n",
      "Epoch 57/60\n",
      "7000/7000 [==============================] - 6s 851us/step - loss: 61.5870 - acc: 0.0000e+00\n",
      "Epoch 58/60\n",
      "7000/7000 [==============================] - 6s 840us/step - loss: 56.9134 - acc: 0.0000e+00\n",
      "Epoch 59/60\n",
      "7000/7000 [==============================] - 6s 847us/step - loss: 52.6597 - acc: 0.0000e+00\n",
      "Epoch 60/60\n",
      "7000/7000 [==============================] - 6s 837us/step - loss: 48.6689 - acc: 0.0000e+00\n"
     ]
    },
    {
     "data": {
      "text/plain": [
       "<tensorflow.python.keras.callbacks.History at 0x7eff600595f8>"
      ]
     },
     "execution_count": 19,
     "metadata": {},
     "output_type": "execute_result"
    }
   ],
   "source": [
    "nEpochs = 70\n",
    "model.fit(trainx, trainy, epochs=nEpochs, callbacks=[l])"
   ]
  },
  {
   "cell_type": "code",
   "execution_count": 20,
   "metadata": {},
   "outputs": [
    {
     "data": {
      "text/plain": [
       "Text(0.5, 1.0, 'Cost function over time (epochs)')"
      ]
     },
     "execution_count": 20,
     "metadata": {},
     "output_type": "execute_result"
    },
    {
     "data": {
      "image/png": "[encoded data removed]",
      "text/plain": [
       "<Figure size 432x288 with 1 Axes>"
      ]
     },
     "metadata": {
      "needs_background": "light"
     },
     "output_type": "display_data"
    }
   ],
   "source": [
    "# Echemos otro vistazo al coste en función de la época\n",
    "\n",
    "x = range(1,len(l.losses)+1)\n",
    "y = l.losses\n",
    "plt.plot(x,y)\n",
    "plt.title(\"Cost function over time (epochs)\")"
   ]
  },
  {
   "cell_type": "markdown",
   "metadata": {},
   "source": [
    "Hagamos una predicción sobre los datos de validación:"
   ]
  },
  {
   "cell_type": "code",
   "execution_count": 24,
   "metadata": {},
   "outputs": [
    {
     "data": {
      "text/plain": [
       "array([[92.75355]], dtype=float32)"
      ]
     },
     "execution_count": 24,
     "metadata": {},
     "output_type": "execute_result"
    }
   ],
   "source": [
    "model.predict(valx[0:1])"
   ]
  },
  {
   "cell_type": "markdown",
   "metadata": {},
   "source": [
    "Y el precio que corresponde a ese día es:"
   ]
  },
  {
   "cell_type": "code",
   "execution_count": 22,
   "metadata": {},
   "outputs": [
    {
     "data": {
      "text/plain": [
       "array([93.12])"
      ]
     },
     "execution_count": 22,
     "metadata": {},
     "output_type": "execute_result"
    }
   ],
   "source": [
    "valy[0]"
   ]
  },
  {
   "cell_type": "markdown",
   "metadata": {},
   "source": [
    "Como vemos, no está demasiado mal"
   ]
  }
 ],
 "metadata": {
  "kernelspec": {
   "display_name": "Python 3",
   "language": "python",
   "name": "python3"
  },
  "language_info": {
   "codemirror_mode": {
    "name": "ipython",
    "version": 3
   },
   "file_extension": ".py",
   "mimetype": "text/x-python",
   "name": "python",
   "nbconvert_exporter": "python",
   "pygments_lexer": "ipython3",
   "version": "3.6.7"
  }
 },
 "nbformat": 4,
 "nbformat_minor": 2
}
