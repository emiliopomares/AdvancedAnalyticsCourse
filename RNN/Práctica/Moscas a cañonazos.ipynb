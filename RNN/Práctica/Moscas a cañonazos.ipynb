{
 "cells": [
  {
   "cell_type": "code",
   "execution_count": null,
   "metadata": {},
   "outputs": [],
   "source": [
    "# Importemos todas las librerías necesarias\n",
    "import tensorflow as tf\n",
    "from tensorflow.keras.models import Sequential\n",
    "import tensorflow.contrib.keras as keras\n",
    "L = keras.layers\n",
    "from sklearn.model_selection import train_test_split\n",
    "import numpy as np\n",
    "import matplotlib.pyplot as plt"
   ]
  },
  {
   "cell_type": "code",
   "execution_count": null,
   "metadata": {},
   "outputs": [],
   "source": [
    "# Reseteemos la sesión (importante cada vez que se cambia el grafo de tf o el modelo)\n",
    "tf.keras.backend.clear_session()"
   ]
  },
  {
   "cell_type": "code",
   "execution_count": null,
   "metadata": {},
   "outputs": [],
   "source": [
    "# Definamos los datos de entrenamiento:\n",
    "#   X <- secuencia de 0 a 999\n",
    "#   Y <- X ^ 2\n",
    "X_train = np.array(range(0,1000))[0:1000]\n",
    "Y_train = X_train * 2\n",
    "X_train = X_train.reshape(1000, 1, 1)\n",
    "Y_train = Y_train.reshape(1000, 1)"
   ]
  },
  {
   "cell_type": "code",
   "execution_count": null,
   "metadata": {},
   "outputs": [],
   "source": [
    "# Número de neuronas en el interior de la celda RNN\n",
    "HiddenUnits = 4"
   ]
  },
  {
   "cell_type": "code",
   "execution_count": null,
   "metadata": {},
   "outputs": [],
   "source": [
    "# Número de épocas\n",
    "nEpochs = 1000"
   ]
  },
  {
   "cell_type": "code",
   "execution_count": null,
   "metadata": {},
   "outputs": [],
   "source": [
    "# Definamos el modelo: una sola unidad RNN simple, que tratará de predecir un escalar de salida\n",
    "# a partir de un escalar de entrada y el estado anterior\n",
    "\n",
    "model = Sequential()\n",
    "\n",
    "model.add(L.SimpleRNN(HiddenUnits, input_shape=(1,1), return_sequences=False))\n",
    "model.add(L.Dense(1))"
   ]
  },
  {
   "cell_type": "code",
   "execution_count": null,
   "metadata": {},
   "outputs": [],
   "source": [
    "# Definamos una clase descendiente de Callback para almacenar una historia de losses\n",
    "\n",
    "class LossHistory(keras.callbacks.Callback):\n",
    "        def on_train_begin(self, logs={}):\n",
    "            self.losses = []\n",
    "            \n",
    "        def on_epoch_end(self, epoch, logs={}):\n",
    "            self.losses.append(logs.get('loss'))\n",
    "            \n",
    "l = LossHistory()"
   ]
  },
  {
   "cell_type": "code",
   "execution_count": null,
   "metadata": {},
   "outputs": [],
   "source": [
    "# A compilar el modelo...\n",
    "model.compile(optimizer='adam', loss='mean_squared_error',metrics=['accuracy'])"
   ]
  },
  {
   "cell_type": "code",
   "execution_count": null,
   "metadata": {},
   "outputs": [],
   "source": [
    "# Echemos un vistazo al modelo\n",
    "model.summary()"
   ]
  },
  {
   "cell_type": "code",
   "execution_count": null,
   "metadata": {},
   "outputs": [],
   "source": [
    "# Los datos de validación son los mismos que los de entrenamiento en este caso, porque no tenemos\n",
    "# datos de validación...\n",
    "model.fit(X_train, Y_train, epochs=nEpochs, validation_data=(X_train, Y_train), callbacks=[l])"
   ]
  },
  {
   "cell_type": "code",
   "execution_count": null,
   "metadata": {},
   "outputs": [],
   "source": [
    "# Echemos un vistazo al coste en función de la época\n",
    "\n",
    "x = range(1,len(l.losses)+1)\n",
    "y = l.losses\n",
    "plt.plot(x,y)\n",
    "plt.title(\"Cost function over time (epochs)\")"
   ]
  },
  {
   "cell_type": "code",
   "execution_count": null,
   "metadata": {},
   "outputs": [],
   "source": [
    "# A ver qué tal ha aprendido a predecir la secuencia\n",
    "\n",
    "TryValue = 10\n",
    "\n",
    "# debería precedir un valor cercano a TryValue * 2\n",
    "model.predict(X_train[TryValue:TryValue+1])"
   ]
  },
  {
   "cell_type": "code",
   "execution_count": null,
   "metadata": {},
   "outputs": [],
   "source": [
    "# Veamos un poco de la función que ha aprendido\n",
    "\n",
    "x = np.arange(1,100)\n",
    "y = model.predict(X_train[x])\n",
    "plt.plot(x,y)"
   ]
  },
  {
   "cell_type": "code",
   "execution_count": null,
   "metadata": {},
   "outputs": [],
   "source": []
  }
 ],
 "metadata": {
  "kernelspec": {
   "display_name": "Python 3",
   "language": "python",
   "name": "python3"
  },
  "language_info": {
   "codemirror_mode": {
    "name": "ipython",
    "version": 3
   },
   "file_extension": ".py",
   "mimetype": "text/x-python",
   "name": "python",
   "nbconvert_exporter": "python",
   "pygments_lexer": "ipython3",
   "version": "3.6.7"
  }
 },
 "nbformat": 4,
 "nbformat_minor": 2
}
