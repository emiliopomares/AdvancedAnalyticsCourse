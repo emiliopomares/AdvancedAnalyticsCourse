{
 "cells": [
  {
   "cell_type": "markdown",
   "metadata": {},
   "source": [
    "<center>\n",
    "<h1>Deep autoencoders</h1>\n",
    "    <h2>Made with ❤️ by Emilio Pomares Porras (@emiliothehuman)</h2>\n",
    "    <h3>Con datos facilitados por Olivetti Research Laboratory</h3>\n",
    "    </center>\n",
    "<br><img src=\"https://lilianweng.github.io/lil-log/assets/images/autoencoder-architecture.png\">\n",
    "<br><br>Usaremos un deep autoencoder para obtener embeddings de caras humanas"
   ]
  },
  {
   "cell_type": "code",
   "execution_count": 1,
   "metadata": {},
   "outputs": [],
   "source": [
    "# Imports usuales\n",
    "\n",
    "import tensorflow as tf\n",
    "import tensorflow.contrib.keras as keras\n",
    "import numpy as np\n",
    "L = keras.layers\n",
    "import matplotlib.pyplot as plt\n",
    "from PIL import Image"
   ]
  },
  {
   "cell_type": "code",
   "execution_count": 2,
   "metadata": {},
   "outputs": [],
   "source": [
    "import zipfile\n",
    "\n",
    "def readImagesFromZipfile(filepath):\n",
    "    imdata = []\n",
    "    zfile = zipfile.ZipFile(filepath)\n",
    "    for finfo in zfile.infolist():\n",
    "        fname = finfo.filename\n",
    "        if(fname.startswith(\"_\")==False and fname.startswith(\".\")==False and fname.endswith(\"pgm\")==True):\n",
    "            print(\"Attempting \",fname)\n",
    "            handle = zfile.open(finfo)\n",
    "            image = Image.open(handle).resize((32, 48))\n",
    "            imdata.append(image)\n",
    "    return imdata\n"
   ]
  },
  {
   "cell_type": "code",
   "execution_count": 3,
   "metadata": {},
   "outputs": [
    {
     "name": "stdout",
     "output_type": "stream",
     "text": [
      "Attempting  orl_faces/s34/7.pgm\n",
      "Attempting  orl_faces/s34/6.pgm\n",
      "Attempting  orl_faces/s34/4.pgm\n",
      "Attempting  orl_faces/s34/5.pgm\n",
      "Attempting  orl_faces/s34/1.pgm\n",
      "Attempting  orl_faces/s34/2.pgm\n",
      "Attempting  orl_faces/s34/3.pgm\n",
      "Attempting  orl_faces/s34/8.pgm\n",
      "Attempting  orl_faces/s34/9.pgm\n",
      "Attempting  orl_faces/s34/10.pgm\n",
      "Attempting  orl_faces/s33/7.pgm\n",
      "Attempting  orl_faces/s33/6.pgm\n",
      "Attempting  orl_faces/s33/4.pgm\n",
      "Attempting  orl_faces/s33/5.pgm\n",
      "Attempting  orl_faces/s33/1.pgm\n",
      "Attempting  orl_faces/s33/2.pgm\n",
      "Attempting  orl_faces/s33/3.pgm\n",
      "Attempting  orl_faces/s33/8.pgm\n",
      "Attempting  orl_faces/s33/9.pgm\n",
      "Attempting  orl_faces/s33/10.pgm\n",
      "Attempting  orl_faces/s5/7.pgm\n",
      "Attempting  orl_faces/s5/6.pgm\n",
      "Attempting  orl_faces/s5/4.pgm\n",
      "Attempting  orl_faces/s5/5.pgm\n",
      "Attempting  orl_faces/s5/1.pgm\n",
      "Attempting  orl_faces/s5/2.pgm\n",
      "Attempting  orl_faces/s5/3.pgm\n",
      "Attempting  orl_faces/s5/8.pgm\n",
      "Attempting  orl_faces/s5/9.pgm\n",
      "Attempting  orl_faces/s5/10.pgm\n",
      "Attempting  orl_faces/s2/7.pgm\n",
      "Attempting  orl_faces/s2/6.pgm\n",
      "Attempting  orl_faces/s2/4.pgm\n",
      "Attempting  orl_faces/s2/5.pgm\n",
      "Attempting  orl_faces/s2/1.pgm\n",
      "Attempting  orl_faces/s2/2.pgm\n",
      "Attempting  orl_faces/s2/3.pgm\n",
      "Attempting  orl_faces/s2/8.pgm\n",
      "Attempting  orl_faces/s2/9.pgm\n",
      "Attempting  orl_faces/s2/10.pgm\n",
      "Attempting  orl_faces/s32/7.pgm\n",
      "Attempting  orl_faces/s32/6.pgm\n",
      "Attempting  orl_faces/s32/4.pgm\n",
      "Attempting  orl_faces/s32/5.pgm\n",
      "Attempting  orl_faces/s32/1.pgm\n",
      "Attempting  orl_faces/s32/2.pgm\n",
      "Attempting  orl_faces/s32/3.pgm\n",
      "Attempting  orl_faces/s32/8.pgm\n",
      "Attempting  orl_faces/s32/9.pgm\n",
      "Attempting  orl_faces/s32/10.pgm\n",
      "Attempting  orl_faces/s35/7.pgm\n",
      "Attempting  orl_faces/s35/6.pgm\n",
      "Attempting  orl_faces/s35/4.pgm\n",
      "Attempting  orl_faces/s35/5.pgm\n",
      "Attempting  orl_faces/s35/1.pgm\n",
      "Attempting  orl_faces/s35/2.pgm\n",
      "Attempting  orl_faces/s35/3.pgm\n",
      "Attempting  orl_faces/s35/8.pgm\n",
      "Attempting  orl_faces/s35/9.pgm\n",
      "Attempting  orl_faces/s35/10.pgm\n",
      "Attempting  orl_faces/s3/7.pgm\n",
      "Attempting  orl_faces/s3/6.pgm\n",
      "Attempting  orl_faces/s3/4.pgm\n",
      "Attempting  orl_faces/s3/5.pgm\n",
      "Attempting  orl_faces/s3/1.pgm\n",
      "Attempting  orl_faces/s3/2.pgm\n",
      "Attempting  orl_faces/s3/3.pgm\n",
      "Attempting  orl_faces/s3/8.pgm\n",
      "Attempting  orl_faces/s3/9.pgm\n",
      "Attempting  orl_faces/s3/10.pgm\n",
      "Attempting  orl_faces/s4/7.pgm\n",
      "Attempting  orl_faces/s4/6.pgm\n",
      "Attempting  orl_faces/s4/4.pgm\n",
      "Attempting  orl_faces/s4/5.pgm\n",
      "Attempting  orl_faces/s4/1.pgm\n",
      "Attempting  orl_faces/s4/2.pgm\n",
      "Attempting  orl_faces/s4/3.pgm\n",
      "Attempting  orl_faces/s4/8.pgm\n",
      "Attempting  orl_faces/s4/9.pgm\n",
      "Attempting  orl_faces/s4/10.pgm\n",
      "Attempting  orl_faces/s26/7.pgm\n",
      "Attempting  orl_faces/s26/6.pgm\n",
      "Attempting  orl_faces/s26/4.pgm\n",
      "Attempting  orl_faces/s26/5.pgm\n",
      "Attempting  orl_faces/s26/1.pgm\n",
      "Attempting  orl_faces/s26/2.pgm\n",
      "Attempting  orl_faces/s26/3.pgm\n",
      "Attempting  orl_faces/s26/8.pgm\n",
      "Attempting  orl_faces/s26/9.pgm\n",
      "Attempting  orl_faces/s26/10.pgm\n",
      "Attempting  orl_faces/s19/7.pgm\n",
      "Attempting  orl_faces/s19/6.pgm\n",
      "Attempting  orl_faces/s19/4.pgm\n",
      "Attempting  orl_faces/s19/5.pgm\n",
      "Attempting  orl_faces/s19/1.pgm\n",
      "Attempting  orl_faces/s19/2.pgm\n",
      "Attempting  orl_faces/s19/3.pgm\n",
      "Attempting  orl_faces/s19/8.pgm\n",
      "Attempting  orl_faces/s19/9.pgm\n",
      "Attempting  orl_faces/s19/10.pgm\n",
      "Attempting  orl_faces/s21/7.pgm\n",
      "Attempting  orl_faces/s21/6.pgm\n",
      "Attempting  orl_faces/s21/4.pgm\n",
      "Attempting  orl_faces/s21/5.pgm\n",
      "Attempting  orl_faces/s21/1.pgm\n",
      "Attempting  orl_faces/s21/2.pgm\n",
      "Attempting  orl_faces/s21/3.pgm\n",
      "Attempting  orl_faces/s21/8.pgm\n",
      "Attempting  orl_faces/s21/9.pgm\n",
      "Attempting  orl_faces/s21/10.pgm\n",
      "Attempting  orl_faces/s17/7.pgm\n",
      "Attempting  orl_faces/s17/6.pgm\n",
      "Attempting  orl_faces/s17/4.pgm\n",
      "Attempting  orl_faces/s17/5.pgm\n",
      "Attempting  orl_faces/s17/1.pgm\n",
      "Attempting  orl_faces/s17/2.pgm\n",
      "Attempting  orl_faces/s17/3.pgm\n",
      "Attempting  orl_faces/s17/8.pgm\n",
      "Attempting  orl_faces/s17/9.pgm\n",
      "Attempting  orl_faces/s17/10.pgm\n",
      "Attempting  orl_faces/s28/7.pgm\n",
      "Attempting  orl_faces/s28/6.pgm\n",
      "Attempting  orl_faces/s28/4.pgm\n",
      "Attempting  orl_faces/s28/5.pgm\n",
      "Attempting  orl_faces/s28/1.pgm\n",
      "Attempting  orl_faces/s28/2.pgm\n",
      "Attempting  orl_faces/s28/3.pgm\n",
      "Attempting  orl_faces/s28/8.pgm\n",
      "Attempting  orl_faces/s28/9.pgm\n",
      "Attempting  orl_faces/s28/10.pgm\n",
      "Attempting  orl_faces/s10/7.pgm\n",
      "Attempting  orl_faces/s10/6.pgm\n",
      "Attempting  orl_faces/s10/4.pgm\n",
      "Attempting  orl_faces/s10/5.pgm\n",
      "Attempting  orl_faces/s10/1.pgm\n",
      "Attempting  orl_faces/s10/2.pgm\n",
      "Attempting  orl_faces/s10/3.pgm\n",
      "Attempting  orl_faces/s10/8.pgm\n",
      "Attempting  orl_faces/s10/9.pgm\n",
      "Attempting  orl_faces/s10/10.pgm\n",
      "Attempting  orl_faces/s11/7.pgm\n",
      "Attempting  orl_faces/s11/6.pgm\n",
      "Attempting  orl_faces/s11/4.pgm\n",
      "Attempting  orl_faces/s11/5.pgm\n",
      "Attempting  orl_faces/s11/1.pgm\n",
      "Attempting  orl_faces/s11/2.pgm\n",
      "Attempting  orl_faces/s11/3.pgm\n",
      "Attempting  orl_faces/s11/8.pgm\n",
      "Attempting  orl_faces/s11/9.pgm\n",
      "Attempting  orl_faces/s11/10.pgm\n",
      "Attempting  orl_faces/s16/7.pgm\n",
      "Attempting  orl_faces/s16/6.pgm\n",
      "Attempting  orl_faces/s16/4.pgm\n",
      "Attempting  orl_faces/s16/5.pgm\n",
      "Attempting  orl_faces/s16/1.pgm\n",
      "Attempting  orl_faces/s16/2.pgm\n",
      "Attempting  orl_faces/s16/3.pgm\n",
      "Attempting  orl_faces/s16/8.pgm\n",
      "Attempting  orl_faces/s16/9.pgm\n",
      "Attempting  orl_faces/s16/10.pgm\n",
      "Attempting  orl_faces/s29/7.pgm\n",
      "Attempting  orl_faces/s29/6.pgm\n",
      "Attempting  orl_faces/s29/4.pgm\n",
      "Attempting  orl_faces/s29/5.pgm\n",
      "Attempting  orl_faces/s29/1.pgm\n",
      "Attempting  orl_faces/s29/2.pgm\n",
      "Attempting  orl_faces/s29/3.pgm\n",
      "Attempting  orl_faces/s29/8.pgm\n",
      "Attempting  orl_faces/s29/9.pgm\n",
      "Attempting  orl_faces/s29/10.pgm\n",
      "Attempting  orl_faces/s20/7.pgm\n",
      "Attempting  orl_faces/s20/6.pgm\n",
      "Attempting  orl_faces/s20/4.pgm\n",
      "Attempting  orl_faces/s20/5.pgm\n",
      "Attempting  orl_faces/s20/1.pgm\n",
      "Attempting  orl_faces/s20/2.pgm\n",
      "Attempting  orl_faces/s20/3.pgm\n",
      "Attempting  orl_faces/s20/8.pgm\n",
      "Attempting  orl_faces/s20/9.pgm\n",
      "Attempting  orl_faces/s20/10.pgm\n",
      "Attempting  orl_faces/s27/7.pgm\n",
      "Attempting  orl_faces/s27/6.pgm\n",
      "Attempting  orl_faces/s27/4.pgm\n",
      "Attempting  orl_faces/s27/5.pgm\n",
      "Attempting  orl_faces/s27/1.pgm\n",
      "Attempting  orl_faces/s27/2.pgm\n",
      "Attempting  orl_faces/s27/3.pgm\n",
      "Attempting  orl_faces/s27/8.pgm\n",
      "Attempting  orl_faces/s27/9.pgm\n",
      "Attempting  orl_faces/s27/10.pgm\n",
      "Attempting  orl_faces/s18/7.pgm\n",
      "Attempting  orl_faces/s18/6.pgm\n",
      "Attempting  orl_faces/s18/4.pgm\n",
      "Attempting  orl_faces/s18/5.pgm\n",
      "Attempting  orl_faces/s18/1.pgm\n",
      "Attempting  orl_faces/s18/2.pgm\n",
      "Attempting  orl_faces/s18/3.pgm\n",
      "Attempting  orl_faces/s18/8.pgm\n",
      "Attempting  orl_faces/s18/9.pgm\n",
      "Attempting  orl_faces/s18/10.pgm\n",
      "Attempting  orl_faces/s8/7.pgm\n",
      "Attempting  orl_faces/s8/6.pgm\n",
      "Attempting  orl_faces/s8/4.pgm\n",
      "Attempting  orl_faces/s8/5.pgm\n",
      "Attempting  orl_faces/s8/1.pgm\n",
      "Attempting  orl_faces/s8/2.pgm\n",
      "Attempting  orl_faces/s8/3.pgm\n",
      "Attempting  orl_faces/s8/8.pgm\n",
      "Attempting  orl_faces/s8/9.pgm\n",
      "Attempting  orl_faces/s8/10.pgm\n",
      "Attempting  orl_faces/s1/7.pgm\n",
      "Attempting  orl_faces/s1/6.pgm\n",
      "Attempting  orl_faces/s1/4.pgm\n",
      "Attempting  orl_faces/s1/5.pgm\n",
      "Attempting  orl_faces/s1/1.pgm\n",
      "Attempting  orl_faces/s1/2.pgm\n",
      "Attempting  orl_faces/s1/3.pgm\n",
      "Attempting  orl_faces/s1/8.pgm\n",
      "Attempting  orl_faces/s1/9.pgm\n",
      "Attempting  orl_faces/s1/10.pgm\n",
      "Attempting  orl_faces/s6/7.pgm\n",
      "Attempting  orl_faces/s6/6.pgm\n",
      "Attempting  orl_faces/s6/4.pgm\n",
      "Attempting  orl_faces/s6/5.pgm\n",
      "Attempting  orl_faces/s6/1.pgm\n",
      "Attempting  orl_faces/s6/2.pgm\n",
      "Attempting  orl_faces/s6/3.pgm\n",
      "Attempting  orl_faces/s6/8.pgm\n",
      "Attempting  orl_faces/s6/9.pgm\n",
      "Attempting  orl_faces/s6/10.pgm\n",
      "Attempting  orl_faces/s39/7.pgm\n",
      "Attempting  orl_faces/s39/6.pgm\n",
      "Attempting  orl_faces/s39/4.pgm\n",
      "Attempting  orl_faces/s39/5.pgm\n",
      "Attempting  orl_faces/s39/1.pgm\n",
      "Attempting  orl_faces/s39/2.pgm\n",
      "Attempting  orl_faces/s39/3.pgm\n",
      "Attempting  orl_faces/s39/8.pgm\n",
      "Attempting  orl_faces/s39/9.pgm\n",
      "Attempting  orl_faces/s39/10.pgm\n",
      "Attempting  orl_faces/s30/7.pgm\n",
      "Attempting  orl_faces/s30/6.pgm\n",
      "Attempting  orl_faces/s30/4.pgm\n",
      "Attempting  orl_faces/s30/5.pgm\n",
      "Attempting  orl_faces/s30/1.pgm\n",
      "Attempting  orl_faces/s30/2.pgm\n",
      "Attempting  orl_faces/s30/3.pgm\n",
      "Attempting  orl_faces/s30/8.pgm\n",
      "Attempting  orl_faces/s30/9.pgm\n",
      "Attempting  orl_faces/s30/10.pgm\n",
      "Attempting  orl_faces/s37/7.pgm\n",
      "Attempting  orl_faces/s37/6.pgm\n",
      "Attempting  orl_faces/s37/4.pgm\n",
      "Attempting  orl_faces/s37/5.pgm\n",
      "Attempting  orl_faces/s37/1.pgm\n",
      "Attempting  orl_faces/s37/2.pgm\n",
      "Attempting  orl_faces/s37/3.pgm\n",
      "Attempting  orl_faces/s37/8.pgm\n",
      "Attempting  orl_faces/s37/9.pgm\n",
      "Attempting  orl_faces/s37/10.pgm\n",
      "Attempting  orl_faces/s7/7.pgm\n",
      "Attempting  orl_faces/s7/6.pgm\n",
      "Attempting  orl_faces/s7/4.pgm\n",
      "Attempting  orl_faces/s7/5.pgm\n",
      "Attempting  orl_faces/s7/1.pgm\n",
      "Attempting  orl_faces/s7/2.pgm\n",
      "Attempting  orl_faces/s7/3.pgm\n",
      "Attempting  orl_faces/s7/8.pgm\n",
      "Attempting  orl_faces/s7/9.pgm\n",
      "Attempting  orl_faces/s7/10.pgm\n",
      "Attempting  orl_faces/s9/7.pgm\n",
      "Attempting  orl_faces/s9/6.pgm\n",
      "Attempting  orl_faces/s9/4.pgm\n",
      "Attempting  orl_faces/s9/5.pgm\n",
      "Attempting  orl_faces/s9/1.pgm\n",
      "Attempting  orl_faces/s9/2.pgm\n",
      "Attempting  orl_faces/s9/3.pgm\n",
      "Attempting  orl_faces/s9/8.pgm\n",
      "Attempting  orl_faces/s9/9.pgm\n",
      "Attempting  orl_faces/s9/10.pgm\n",
      "Attempting  orl_faces/s36/7.pgm\n",
      "Attempting  orl_faces/s36/6.pgm\n",
      "Attempting  orl_faces/s36/4.pgm\n",
      "Attempting  orl_faces/s36/5.pgm\n",
      "Attempting  orl_faces/s36/1.pgm\n",
      "Attempting  orl_faces/s36/2.pgm\n",
      "Attempting  orl_faces/s36/3.pgm\n",
      "Attempting  orl_faces/s36/8.pgm\n",
      "Attempting  orl_faces/s36/9.pgm\n",
      "Attempting  orl_faces/s36/10.pgm\n"
     ]
    },
    {
     "name": "stdout",
     "output_type": "stream",
     "text": [
      "Attempting  orl_faces/s31/7.pgm\n",
      "Attempting  orl_faces/s31/6.pgm\n",
      "Attempting  orl_faces/s31/4.pgm\n",
      "Attempting  orl_faces/s31/5.pgm\n",
      "Attempting  orl_faces/s31/1.pgm\n",
      "Attempting  orl_faces/s31/2.pgm\n",
      "Attempting  orl_faces/s31/3.pgm\n",
      "Attempting  orl_faces/s31/8.pgm\n",
      "Attempting  orl_faces/s31/9.pgm\n",
      "Attempting  orl_faces/s31/10.pgm\n",
      "Attempting  orl_faces/s38/7.pgm\n",
      "Attempting  orl_faces/s38/6.pgm\n",
      "Attempting  orl_faces/s38/4.pgm\n",
      "Attempting  orl_faces/s38/5.pgm\n",
      "Attempting  orl_faces/s38/1.pgm\n",
      "Attempting  orl_faces/s38/2.pgm\n",
      "Attempting  orl_faces/s38/3.pgm\n",
      "Attempting  orl_faces/s38/8.pgm\n",
      "Attempting  orl_faces/s38/9.pgm\n",
      "Attempting  orl_faces/s38/10.pgm\n",
      "Attempting  orl_faces/s22/7.pgm\n",
      "Attempting  orl_faces/s22/6.pgm\n",
      "Attempting  orl_faces/s22/4.pgm\n",
      "Attempting  orl_faces/s22/5.pgm\n",
      "Attempting  orl_faces/s22/1.pgm\n",
      "Attempting  orl_faces/s22/2.pgm\n",
      "Attempting  orl_faces/s22/3.pgm\n",
      "Attempting  orl_faces/s22/8.pgm\n",
      "Attempting  orl_faces/s22/9.pgm\n",
      "Attempting  orl_faces/s22/10.pgm\n",
      "Attempting  orl_faces/s25/7.pgm\n",
      "Attempting  orl_faces/s25/6.pgm\n",
      "Attempting  orl_faces/s25/4.pgm\n",
      "Attempting  orl_faces/s25/5.pgm\n",
      "Attempting  orl_faces/s25/1.pgm\n",
      "Attempting  orl_faces/s25/2.pgm\n",
      "Attempting  orl_faces/s25/3.pgm\n",
      "Attempting  orl_faces/s25/8.pgm\n",
      "Attempting  orl_faces/s25/9.pgm\n",
      "Attempting  orl_faces/s25/10.pgm\n",
      "Attempting  orl_faces/s13/7.pgm\n",
      "Attempting  orl_faces/s13/6.pgm\n",
      "Attempting  orl_faces/s13/4.pgm\n",
      "Attempting  orl_faces/s13/5.pgm\n",
      "Attempting  orl_faces/s13/1.pgm\n",
      "Attempting  orl_faces/s13/2.pgm\n",
      "Attempting  orl_faces/s13/3.pgm\n",
      "Attempting  orl_faces/s13/8.pgm\n",
      "Attempting  orl_faces/s13/9.pgm\n",
      "Attempting  orl_faces/s13/10.pgm\n",
      "Attempting  orl_faces/s14/7.pgm\n",
      "Attempting  orl_faces/s14/6.pgm\n",
      "Attempting  orl_faces/s14/4.pgm\n",
      "Attempting  orl_faces/s14/5.pgm\n",
      "Attempting  orl_faces/s14/1.pgm\n",
      "Attempting  orl_faces/s14/2.pgm\n",
      "Attempting  orl_faces/s14/3.pgm\n",
      "Attempting  orl_faces/s14/8.pgm\n",
      "Attempting  orl_faces/s14/9.pgm\n",
      "Attempting  orl_faces/s14/10.pgm\n",
      "Attempting  orl_faces/s40/7.pgm\n",
      "Attempting  orl_faces/s40/6.pgm\n",
      "Attempting  orl_faces/s40/4.pgm\n",
      "Attempting  orl_faces/s40/5.pgm\n",
      "Attempting  orl_faces/s40/1.pgm\n",
      "Attempting  orl_faces/s40/2.pgm\n",
      "Attempting  orl_faces/s40/3.pgm\n",
      "Attempting  orl_faces/s40/8.pgm\n",
      "Attempting  orl_faces/s40/9.pgm\n",
      "Attempting  orl_faces/s40/10.pgm\n",
      "Attempting  orl_faces/s15/7.pgm\n",
      "Attempting  orl_faces/s15/6.pgm\n",
      "Attempting  orl_faces/s15/4.pgm\n",
      "Attempting  orl_faces/s15/5.pgm\n",
      "Attempting  orl_faces/s15/1.pgm\n",
      "Attempting  orl_faces/s15/2.pgm\n",
      "Attempting  orl_faces/s15/3.pgm\n",
      "Attempting  orl_faces/s15/8.pgm\n",
      "Attempting  orl_faces/s15/9.pgm\n",
      "Attempting  orl_faces/s15/10.pgm\n",
      "Attempting  orl_faces/s12/7.pgm\n",
      "Attempting  orl_faces/s12/6.pgm\n",
      "Attempting  orl_faces/s12/4.pgm\n",
      "Attempting  orl_faces/s12/5.pgm\n",
      "Attempting  orl_faces/s12/1.pgm\n",
      "Attempting  orl_faces/s12/2.pgm\n",
      "Attempting  orl_faces/s12/3.pgm\n",
      "Attempting  orl_faces/s12/8.pgm\n",
      "Attempting  orl_faces/s12/9.pgm\n",
      "Attempting  orl_faces/s12/10.pgm\n",
      "Attempting  orl_faces/s24/7.pgm\n",
      "Attempting  orl_faces/s24/6.pgm\n",
      "Attempting  orl_faces/s24/4.pgm\n",
      "Attempting  orl_faces/s24/5.pgm\n",
      "Attempting  orl_faces/s24/1.pgm\n",
      "Attempting  orl_faces/s24/2.pgm\n",
      "Attempting  orl_faces/s24/3.pgm\n",
      "Attempting  orl_faces/s24/8.pgm\n",
      "Attempting  orl_faces/s24/9.pgm\n",
      "Attempting  orl_faces/s24/10.pgm\n",
      "Attempting  orl_faces/s23/7.pgm\n",
      "Attempting  orl_faces/s23/6.pgm\n",
      "Attempting  orl_faces/s23/4.pgm\n",
      "Attempting  orl_faces/s23/5.pgm\n",
      "Attempting  orl_faces/s23/1.pgm\n",
      "Attempting  orl_faces/s23/2.pgm\n",
      "Attempting  orl_faces/s23/3.pgm\n",
      "Attempting  orl_faces/s23/8.pgm\n",
      "Attempting  orl_faces/s23/9.pgm\n",
      "Attempting  orl_faces/s23/10.pgm\n"
     ]
    }
   ],
   "source": [
    "# Carga todas las imágenes almacenadas en el archivo zip\n",
    "\n",
    "images = readImagesFromZipfile(\"./orl_faces.zip\")"
   ]
  },
  {
   "cell_type": "code",
   "execution_count": 4,
   "metadata": {},
   "outputs": [
    {
     "data": {
      "image/png": "[encoded data removed]",
      "text/plain": [
       "<PIL.Image.Image image mode=L size=32x48 at 0x7FE27488F438>"
      ]
     },
     "execution_count": 4,
     "metadata": {},
     "output_type": "execute_result"
    }
   ],
   "source": [
    "images[27]"
   ]
  },
  {
   "cell_type": "code",
   "execution_count": 5,
   "metadata": {},
   "outputs": [],
   "source": [
    "NPixels = 32*48\n",
    "\n",
    "inputs = L.Input(shape=(NPixels,))\n",
    "#codeInputs = Input(shape=(128,))\n",
    "\n",
    "e = L.Dense(512, activation='elu')(inputs)\n",
    "#e = L.Dropout(0.5)(e)\n",
    "e = L.Dense(256, activation='elu')(e)\n",
    "#e = L.Dropout(0.5)(e)\n",
    "code = L.Dense(128, activation='elu')(e)\n",
    "\n",
    "codeInputs = L.Input(shape=(128,))\n",
    "d = L.Dense(256, activation='elu')(code)\n",
    "#d = L.Dropout(0.5)(d)\n",
    "d = L.Dense(512, activation='elu')(d)\n",
    "#d = L.Dropout(0.5)(d)\n",
    "decode = L.Dense(NPixels)(d)\n",
    "\n",
    "model = keras.models.Model(inputs = inputs, outputs = decode)\n",
    "encoder = keras.models.Model(inputs = inputs, outputs = code)\n",
    "decoder = keras.models.Model(inputs = codeInputs, outputs = model.layers[-1](model.layers[-2](model.layers[-3](codeInputs))))"
   ]
  },
  {
   "cell_type": "code",
   "execution_count": 6,
   "metadata": {},
   "outputs": [],
   "source": [
    "def ImagesToTrainset(imgs):\n",
    "    trainset = []\n",
    "    for im in imgs:\n",
    "        trainset.append(np.array(im))\n",
    "    return np.array(trainset).reshape(len(imgs), NPixels)"
   ]
  },
  {
   "cell_type": "code",
   "execution_count": 7,
   "metadata": {},
   "outputs": [],
   "source": [
    "def NormalizeImage(imdata):\n",
    "    return (imdata / 255.0)\n",
    "\n",
    "def DenormalizeImage(rawdata):\n",
    "    return np.clip((rawdata * 255.0), a_min = 0, a_max = 255) "
   ]
  },
  {
   "cell_type": "code",
   "execution_count": 8,
   "metadata": {},
   "outputs": [],
   "source": [
    "trainset = NormalizeImage(ImagesToTrainset(images))"
   ]
  },
  {
   "cell_type": "raw",
   "metadata": {},
   "source": []
  },
  {
   "cell_type": "code",
   "execution_count": 9,
   "metadata": {},
   "outputs": [
    {
     "data": {
      "text/plain": [
       "(400, 1536)"
      ]
     },
     "execution_count": 9,
     "metadata": {},
     "output_type": "execute_result"
    }
   ],
   "source": [
    "trainset.shape"
   ]
  },
  {
   "cell_type": "code",
   "execution_count": 10,
   "metadata": {},
   "outputs": [],
   "source": [
    "model.compile(optimizer='adam',\n",
    "              loss='mean_squared_error')"
   ]
  },
  {
   "cell_type": "code",
   "execution_count": 11,
   "metadata": {},
   "outputs": [
    {
     "name": "stdout",
     "output_type": "stream",
     "text": [
      "_________________________________________________________________\n",
      "Layer (type)                 Output Shape              Param #   \n",
      "=================================================================\n",
      "input_1 (InputLayer)         (None, 1536)              0         \n",
      "_________________________________________________________________\n",
      "dense (Dense)                (None, 512)               786944    \n",
      "_________________________________________________________________\n",
      "dense_1 (Dense)              (None, 256)               131328    \n",
      "_________________________________________________________________\n",
      "dense_2 (Dense)              (None, 128)               32896     \n",
      "_________________________________________________________________\n",
      "dense_3 (Dense)              (None, 256)               33024     \n",
      "_________________________________________________________________\n",
      "dense_4 (Dense)              (None, 512)               131584    \n",
      "_________________________________________________________________\n",
      "dense_5 (Dense)              (None, 1536)              787968    \n",
      "=================================================================\n",
      "Total params: 1,903,744\n",
      "Trainable params: 1,903,744\n",
      "Non-trainable params: 0\n",
      "_________________________________________________________________\n"
     ]
    }
   ],
   "source": [
    "model.summary()"
   ]
  },
  {
   "cell_type": "code",
   "execution_count": 12,
   "metadata": {},
   "outputs": [],
   "source": [
    "# Definamos una clase descendiente de Callback para almacenar una historia de losses\n",
    "\n",
    "class LossHistory(keras.callbacks.Callback):\n",
    "        def on_train_begin(self, logs={}):\n",
    "            self.losses = []\n",
    "            \n",
    "        def on_epoch_end(self, epoch, logs={}):\n",
    "            self.losses.append(logs.get('loss'))\n",
    "            \n",
    "l = LossHistory()"
   ]
  },
  {
   "cell_type": "code",
   "execution_count": 13,
   "metadata": {},
   "outputs": [
    {
     "name": "stdout",
     "output_type": "stream",
     "text": [
      "Epoch 1/60\n",
      "400/400 [==============================] - 2s 6ms/step - loss: 0.1071\n",
      "Epoch 2/60\n",
      "400/400 [==============================] - 1s 1ms/step - loss: 0.0302\n",
      "Epoch 3/60\n",
      "400/400 [==============================] - 1s 1ms/step - loss: 0.0228\n",
      "Epoch 4/60\n",
      "400/400 [==============================] - 1s 2ms/step - loss: 0.0202\n",
      "Epoch 5/60\n",
      "400/400 [==============================] - 0s 1ms/step - loss: 0.0184\n",
      "Epoch 6/60\n",
      "400/400 [==============================] - 1s 2ms/step - loss: 0.0169\n",
      "Epoch 7/60\n",
      "400/400 [==============================] - 1s 1ms/step - loss: 0.0158\n",
      "Epoch 8/60\n",
      "400/400 [==============================] - 1s 1ms/step - loss: 0.0148\n",
      "Epoch 9/60\n",
      "400/400 [==============================] - 0s 1ms/step - loss: 0.0138\n",
      "Epoch 10/60\n",
      "400/400 [==============================] - 0s 1ms/step - loss: 0.0133\n",
      "Epoch 11/60\n",
      "400/400 [==============================] - 0s 1ms/step - loss: 0.0127\n",
      "Epoch 12/60\n",
      "400/400 [==============================] - 0s 1ms/step - loss: 0.0120\n",
      "Epoch 13/60\n",
      "400/400 [==============================] - 0s 1ms/step - loss: 0.0117\n",
      "Epoch 14/60\n",
      "400/400 [==============================] - 0s 1ms/step - loss: 0.0114\n",
      "Epoch 15/60\n",
      "400/400 [==============================] - 0s 1ms/step - loss: 0.0110\n",
      "Epoch 16/60\n",
      "400/400 [==============================] - 0s 1ms/step - loss: 0.0108\n",
      "Epoch 17/60\n",
      "400/400 [==============================] - 0s 1ms/step - loss: 0.0107\n",
      "Epoch 18/60\n",
      "400/400 [==============================] - 0s 1ms/step - loss: 0.0105\n",
      "Epoch 19/60\n",
      "400/400 [==============================] - 0s 1ms/step - loss: 0.0099\n",
      "Epoch 20/60\n",
      "400/400 [==============================] - 0s 1ms/step - loss: 0.0097\n",
      "Epoch 21/60\n",
      "400/400 [==============================] - 0s 1ms/step - loss: 0.0097\n",
      "Epoch 22/60\n",
      "400/400 [==============================] - 0s 1ms/step - loss: 0.0093\n",
      "Epoch 23/60\n",
      "400/400 [==============================] - 0s 1ms/step - loss: 0.0092\n",
      "Epoch 24/60\n",
      "400/400 [==============================] - 0s 1ms/step - loss: 0.0090\n",
      "Epoch 25/60\n",
      "400/400 [==============================] - 0s 1ms/step - loss: 0.0088\n",
      "Epoch 26/60\n",
      "400/400 [==============================] - 0s 1ms/step - loss: 0.0089\n",
      "Epoch 27/60\n",
      "400/400 [==============================] - 0s 1ms/step - loss: 0.0089\n",
      "Epoch 28/60\n",
      "400/400 [==============================] - 0s 1ms/step - loss: 0.0086\n",
      "Epoch 29/60\n",
      "400/400 [==============================] - 0s 1ms/step - loss: 0.0083\n",
      "Epoch 30/60\n",
      "400/400 [==============================] - 0s 1ms/step - loss: 0.0083\n",
      "Epoch 31/60\n",
      "400/400 [==============================] - 0s 1ms/step - loss: 0.0083\n",
      "Epoch 32/60\n",
      "400/400 [==============================] - 0s 1ms/step - loss: 0.0079\n",
      "Epoch 33/60\n",
      "400/400 [==============================] - 0s 1ms/step - loss: 0.0079\n",
      "Epoch 34/60\n",
      "400/400 [==============================] - 0s 1ms/step - loss: 0.0079\n",
      "Epoch 35/60\n",
      "400/400 [==============================] - 0s 1ms/step - loss: 0.0077\n",
      "Epoch 36/60\n",
      "400/400 [==============================] - 0s 1ms/step - loss: 0.0076\n",
      "Epoch 37/60\n",
      "400/400 [==============================] - 0s 1ms/step - loss: 0.0075\n",
      "Epoch 38/60\n",
      "400/400 [==============================] - 0s 1ms/step - loss: 0.0075\n",
      "Epoch 39/60\n",
      "400/400 [==============================] - 0s 1ms/step - loss: 0.0077\n",
      "Epoch 40/60\n",
      "400/400 [==============================] - 0s 1ms/step - loss: 0.0083\n",
      "Epoch 41/60\n",
      "400/400 [==============================] - 0s 1ms/step - loss: 0.0078\n",
      "Epoch 42/60\n",
      "400/400 [==============================] - 0s 1ms/step - loss: 0.0073\n",
      "Epoch 43/60\n",
      "400/400 [==============================] - 0s 1ms/step - loss: 0.0071\n",
      "Epoch 44/60\n",
      "400/400 [==============================] - 0s 1ms/step - loss: 0.0069\n",
      "Epoch 45/60\n",
      "400/400 [==============================] - 0s 1ms/step - loss: 0.0068\n",
      "Epoch 46/60\n",
      "400/400 [==============================] - 0s 1ms/step - loss: 0.0067\n",
      "Epoch 47/60\n",
      "400/400 [==============================] - 0s 1ms/step - loss: 0.0066\n",
      "Epoch 48/60\n",
      "400/400 [==============================] - 0s 1ms/step - loss: 0.0065\n",
      "Epoch 49/60\n",
      "400/400 [==============================] - 0s 1ms/step - loss: 0.0065\n",
      "Epoch 50/60\n",
      "400/400 [==============================] - 0s 1ms/step - loss: 0.0065\n",
      "Epoch 51/60\n",
      "400/400 [==============================] - 1s 1ms/step - loss: 0.0064\n",
      "Epoch 52/60\n",
      "400/400 [==============================] - 0s 1ms/step - loss: 0.0064\n",
      "Epoch 53/60\n",
      "400/400 [==============================] - 0s 1ms/step - loss: 0.0064\n",
      "Epoch 54/60\n",
      "400/400 [==============================] - 0s 1ms/step - loss: 0.0064\n",
      "Epoch 55/60\n",
      "400/400 [==============================] - 0s 1ms/step - loss: 0.0065\n",
      "Epoch 56/60\n",
      "400/400 [==============================] - 0s 1ms/step - loss: 0.0062\n",
      "Epoch 57/60\n",
      "400/400 [==============================] - 0s 1ms/step - loss: 0.0066\n",
      "Epoch 58/60\n",
      "400/400 [==============================] - 0s 1ms/step - loss: 0.0075\n",
      "Epoch 59/60\n",
      "400/400 [==============================] - 0s 1ms/step - loss: 0.0073\n",
      "Epoch 60/60\n",
      "400/400 [==============================] - 0s 1ms/step - loss: 0.0064\n"
     ]
    },
    {
     "data": {
      "text/plain": [
       "<tensorflow.python.keras.callbacks.History at 0x7fe26f96a390>"
      ]
     },
     "execution_count": 13,
     "metadata": {},
     "output_type": "execute_result"
    }
   ],
   "source": [
    "model.fit(trainset, trainset, epochs = 60, callbacks=[l])"
   ]
  },
  {
   "cell_type": "code",
   "execution_count": 14,
   "metadata": {},
   "outputs": [
    {
     "data": {
      "text/plain": [
       "Text(0.5, 1.0, 'Cost function over time (epochs)')"
      ]
     },
     "execution_count": 14,
     "metadata": {},
     "output_type": "execute_result"
    },
    {
     "data": {
      "image/png": "[encoded data removed]",
      "text/plain": [
       "<Figure size 432x288 with 1 Axes>"
      ]
     },
     "metadata": {
      "needs_background": "light"
     },
     "output_type": "display_data"
    }
   ],
   "source": [
    "# Echemos un vistazo al coste en función de la época\n",
    "\n",
    "x = range(1,len(l.losses)+1)\n",
    "y = l.losses\n",
    "plt.plot(x,y)\n",
    "plt.title(\"Cost function over time (epochs)\")"
   ]
  },
  {
   "cell_type": "code",
   "execution_count": 15,
   "metadata": {},
   "outputs": [
    {
     "name": "stdout",
     "output_type": "stream",
     "text": [
      "_________________________________________________________________\n",
      "Layer (type)                 Output Shape              Param #   \n",
      "=================================================================\n",
      "input_1 (InputLayer)         (None, 1536)              0         \n",
      "_________________________________________________________________\n",
      "dense (Dense)                (None, 512)               786944    \n",
      "_________________________________________________________________\n",
      "dense_1 (Dense)              (None, 256)               131328    \n",
      "_________________________________________________________________\n",
      "dense_2 (Dense)              (None, 128)               32896     \n",
      "=================================================================\n",
      "Total params: 951,168\n",
      "Trainable params: 951,168\n",
      "Non-trainable params: 0\n",
      "_________________________________________________________________\n"
     ]
    }
   ],
   "source": [
    "encoder.summary()"
   ]
  },
  {
   "cell_type": "code",
   "execution_count": 16,
   "metadata": {},
   "outputs": [
    {
     "name": "stdout",
     "output_type": "stream",
     "text": [
      "_________________________________________________________________\n",
      "Layer (type)                 Output Shape              Param #   \n",
      "=================================================================\n",
      "input_2 (InputLayer)         (None, 128)               0         \n",
      "_________________________________________________________________\n",
      "dense_3 (Dense)              (None, 256)               33024     \n",
      "_________________________________________________________________\n",
      "dense_4 (Dense)              (None, 512)               131584    \n",
      "_________________________________________________________________\n",
      "dense_5 (Dense)              (None, 1536)              787968    \n",
      "=================================================================\n",
      "Total params: 952,576\n",
      "Trainable params: 952,576\n",
      "Non-trainable params: 0\n",
      "_________________________________________________________________\n"
     ]
    }
   ],
   "source": [
    "decoder.summary()"
   ]
  },
  {
   "cell_type": "code",
   "execution_count": 17,
   "metadata": {},
   "outputs": [
    {
     "data": {
      "text/plain": [
       "<matplotlib.image.AxesImage at 0x7fe26c31c160>"
      ]
     },
     "execution_count": 17,
     "metadata": {},
     "output_type": "execute_result"
    },
    {
     "data": {
      "image/png": "[encoded data removed]",
      "text/plain": [
       "<Figure size 432x288 with 1 Axes>"
      ]
     },
     "metadata": {
      "needs_background": "light"
     },
     "output_type": "display_data"
    }
   ],
   "source": [
    "# La representación\n",
    "\n",
    "ImageZeroCode = encoder.predict(trainset[0:1])\n",
    "ImageTenCode = encoder.predict(trainset[10:11])\n",
    "plt.imshow(trainset[51:52].reshape(48,32))"
   ]
  },
  {
   "cell_type": "code",
   "execution_count": 18,
   "metadata": {},
   "outputs": [
    {
     "name": "stdout",
     "output_type": "stream",
     "text": [
      "[[-0.16196513  0.20889275  0.37743363 -0.96851695 -0.31170547 -0.73802626\n",
      "   0.86124045 -0.8119936  -0.897106   -0.5672533  -0.6106173   0.7299473\n",
      "   1.879114   -0.96791804 -0.23127878 -0.00474644 -0.6565651  -0.7730849\n",
      "  -0.73936987 -0.6587683  -0.6097419   0.10058566 -0.6097522   0.30406842\n",
      "  -0.63470143 -0.3454448  -0.80433255 -0.36114597 -0.07937109 -0.54967594\n",
      "  -0.5183933   0.9260389  -0.14769304  0.08599854 -0.5146479  -0.8696639\n",
      "  -0.93113196 -0.5346494   0.4102908  -0.5559882   0.2222514   0.47322303\n",
      "  -0.6142806   0.18164372 -0.8940326  -0.46008033 -0.3275063  -0.5464461\n",
      "  -0.9041852  -0.7684397  -0.40396667 -0.47138035 -0.42688704 -0.5145223\n",
      "   0.20604062 -0.06685287 -0.46801764 -0.5932267  -0.92731243 -0.72147703\n",
      "  -0.72335327 -0.58067167 -0.73095703 -0.9599975   0.02615692 -0.64988065\n",
      "  -0.40693784 -0.7989019  -0.56301516 -0.48983693 -0.1338309  -0.8560922\n",
      "  -0.3985107  -0.92292434 -0.9058076  -0.93727076  0.76410866 -0.4853298\n",
      "   0.37634784 -0.94905275 -0.5418287  -0.4234137  -0.93388784 -0.7185416\n",
      "  -0.7440791  -0.44008255  1.1250013  -0.44680613 -0.4204833  -0.8679433\n",
      "   0.6511678  -0.74600667 -0.9667056   0.30466345 -0.27426362  0.57606274\n",
      "  -0.6586685  -0.03970957 -0.8080395   0.40468577  0.7422899   0.6121033\n",
      "  -0.50286174 -0.07133508 -0.4846779  -0.07455939 -0.24937356  0.50684124\n",
      "   0.18902618 -0.08207494 -0.86043817 -0.5347425   0.18278517 -0.38660127\n",
      "  -0.7050542  -0.72054195  0.65344113 -0.61724496 -0.14377886 -0.69616103\n",
      "   0.20166136 -0.5892368   1.2277676  -0.30635917 -0.800749   -0.63241655\n",
      "  -0.8782841  -0.71972966]]\n",
      "[[-0.46289253 -0.16995895  0.07632472 -0.9550658   1.2257077  -0.5969442\n",
      "  -0.51423144 -0.7806675  -0.85123837  0.57398903 -0.43175197  0.01046006\n",
      "  -0.45926553 -0.9491117  -0.27246445 -0.6133158  -0.69761574 -0.7434753\n",
      "  -0.13602126 -0.7339301  -0.7486609  -0.5901144  -0.42046428 -0.43065506\n",
      "  -0.76397496 -0.49841452 -0.6651094  -0.6629882  -0.07045245 -0.6396581\n",
      "  -0.4982437   0.874298    0.4275376   0.6129341  -0.45034462 -0.9077192\n",
      "  -0.9160158  -0.55401814  0.5010217  -0.77043056 -0.46338862 -0.41660994\n",
      "  -0.5044061  -0.465589   -0.80493164 -0.14990187 -0.16411924 -0.4605285\n",
      "  -0.67144895 -0.6661873  -0.03132433 -0.5905171  -0.45011574 -0.48150945\n",
      "  -0.05675226 -0.5438303  -0.07828909 -0.08811396 -0.87809944 -0.80496556\n",
      "  -0.7341423  -0.28943306 -0.7783447  -0.89945966 -0.04537684 -0.54243404\n",
      "  -0.21683127 -0.67935115 -0.48896682 -0.27517253  0.3085626  -0.8345841\n",
      "  -0.65644526 -0.7971931  -0.87588716 -0.95502937 -0.07130933  0.477753\n",
      "   0.6050034  -0.9357659   0.0060602  -0.13296217 -0.9292749  -0.7411041\n",
      "  -0.8271541  -0.65397954  1.003382    0.2703749  -0.41352773 -0.9189859\n",
      "   0.2460292  -0.67888796 -0.9649408   0.12720844  0.32974017 -0.3323624\n",
      "  -0.6399088  -0.31538975 -0.81547976  0.2460923  -0.38284135 -0.08098334\n",
      "  -0.51142466 -0.5546602   0.02611286  0.39183754  0.6242277   0.35424116\n",
      "   0.19386822  0.46751714 -0.79892695 -0.49986333 -0.0768435  -0.5439373\n",
      "  -0.71051943 -0.7526976   0.56439865 -0.38916945 -0.29760444 -0.6514646\n",
      "  -0.59526044 -0.79802203  0.15566856  0.51634073 -0.39252138 -0.62574875\n",
      "  -0.93797296 -0.44596654]]\n"
     ]
    }
   ],
   "source": [
    "print(ImageZeroCode[0:1])\n",
    "print(ImageTenCode[0:1])"
   ]
  },
  {
   "cell_type": "code",
   "execution_count": 19,
   "metadata": {},
   "outputs": [],
   "source": [
    "ReconstructedZeroImage = decoder.predict(ImageZeroCode[0:1])\n",
    "ReconstructedTenImage = decoder.predict(ImageTenCode[0:1])"
   ]
  },
  {
   "cell_type": "code",
   "execution_count": null,
   "metadata": {},
   "outputs": [],
   "source": []
  },
  {
   "cell_type": "code",
   "execution_count": 20,
   "metadata": {},
   "outputs": [
    {
     "data": {
      "text/plain": [
       "<matplotlib.image.AxesImage at 0x7fe26c281518>"
      ]
     },
     "execution_count": 20,
     "metadata": {},
     "output_type": "execute_result"
    },
    {
     "data": {
      "image/png": "[encoded data removed]",
      "text/plain": [
       "<Figure size 432x288 with 2 Axes>"
      ]
     },
     "metadata": {
      "needs_background": "light"
     },
     "output_type": "display_data"
    }
   ],
   "source": [
    "plt.subplot(1,2,1)\n",
    "plt.imshow(images[0], cmap='gray')\n",
    "plt.subplot(1,2,2)\n",
    "plt.imshow(images[10], cmap='gray')"
   ]
  },
  {
   "cell_type": "code",
   "execution_count": 21,
   "metadata": {},
   "outputs": [],
   "source": [
    "recImZero = DenormalizeImage(ReconstructedZeroImage)\n",
    "recImTen = DenormalizeImage(ReconstructedTenImage)"
   ]
  },
  {
   "cell_type": "code",
   "execution_count": 22,
   "metadata": {},
   "outputs": [
    {
     "data": {
      "text/plain": [
       "<matplotlib.image.AxesImage at 0x7fe26c227278>"
      ]
     },
     "execution_count": 22,
     "metadata": {},
     "output_type": "execute_result"
    },
    {
     "data": {
      "image/png": "[encoded data removed]",
      "text/plain": [
       "<Figure size 432x288 with 2 Axes>"
      ]
     },
     "metadata": {
      "needs_background": "light"
     },
     "output_type": "display_data"
    }
   ],
   "source": [
    "plt.subplot(1,2,1)\n",
    "plt.imshow(recImZero.reshape(48,32), cmap='gray')\n",
    "plt.subplot(1,2,2)\n",
    "plt.imshow(recImTen.reshape(48,32), cmap='gray')"
   ]
  },
  {
   "cell_type": "markdown",
   "metadata": {},
   "source": [
    "¡Álgebra de caras!\n",
    "Definamos una cara a medio camino entre las dos anteriores"
   ]
  },
  {
   "cell_type": "code",
   "execution_count": 23,
   "metadata": {},
   "outputs": [
    {
     "data": {
      "text/plain": [
       "4.0"
      ]
     },
     "execution_count": 23,
     "metadata": {},
     "output_type": "execute_result"
    }
   ],
   "source": [
    "np.interp(0.5, [1, 2, 3], [4, 5, 6])"
   ]
  },
  {
   "cell_type": "code",
   "execution_count": 43,
   "metadata": {},
   "outputs": [],
   "source": [
    "def lerp(arr1, arr2, fraction):\n",
    "    return np.array(list(map(lambda x: (x[0]+x[1])*fraction, zip(arr1, arr2))))"
   ]
  },
  {
   "cell_type": "code",
   "execution_count": 44,
   "metadata": {},
   "outputs": [
    {
     "data": {
      "text/plain": [
       "(1, 128)"
      ]
     },
     "execution_count": 44,
     "metadata": {},
     "output_type": "execute_result"
    }
   ],
   "source": [
    "InterpolatedCode = lerp(ImageZeroCode, ImageTenCode, 0.5)\n",
    "InterpolatedCode.shape"
   ]
  },
  {
   "cell_type": "code",
   "execution_count": 46,
   "metadata": {},
   "outputs": [],
   "source": [
    "ReconstructedInterpolated = decoder.predict(InterpolatedCode[0:1])\n",
    "recImInterp = DenormalizeImage(ReconstructedInterpolated)"
   ]
  },
  {
   "cell_type": "code",
   "execution_count": 47,
   "metadata": {},
   "outputs": [
    {
     "data": {
      "text/plain": [
       "<matplotlib.image.AxesImage at 0x7fe26c103be0>"
      ]
     },
     "execution_count": 47,
     "metadata": {},
     "output_type": "execute_result"
    },
    {
     "data": {
      "image/png": "[encoded data removed]",
      "text/plain": [
       "<Figure size 432x288 with 1 Axes>"
      ]
     },
     "metadata": {
      "needs_background": "light"
     },
     "output_type": "display_data"
    }
   ],
   "source": [
    "plt.imshow(recImInterp.reshape(48,32), cmap='gray')"
   ]
  },
  {
   "cell_type": "code",
   "execution_count": null,
   "metadata": {},
   "outputs": [],
   "source": []
  }
 ],
 "metadata": {
  "kernelspec": {
   "display_name": "Python 3",
   "language": "python",
   "name": "python3"
  },
  "language_info": {
   "codemirror_mode": {
    "name": "ipython",
    "version": 3
   },
   "file_extension": ".py",
   "mimetype": "text/x-python",
   "name": "python",
   "nbconvert_exporter": "python",
   "pygments_lexer": "ipython3",
   "version": "3.6.7"
  }
 },
 "nbformat": 4,
 "nbformat_minor": 2
}
